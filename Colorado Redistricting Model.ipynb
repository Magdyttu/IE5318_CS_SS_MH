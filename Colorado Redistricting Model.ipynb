{
 "cells": [
  {
   "cell_type": "code",
   "execution_count": 23,
   "id": "b2a873f1-8f52-4a73-9c5c-904757db4779",
   "metadata": {},
   "outputs": [],
   "source": [
    "from gerrychain import Graph\n",
    "\n"
   ]
  },
  {
   "cell_type": "code",
   "execution_count": 24,
   "id": "a376c455-fd91-4816-b30b-8bd2185d5f85",
   "metadata": {},
   "outputs": [],
   "source": [
    "# Read Colorado county graph from the json file \"COUNTY_08.json\"\n",
    "filepath = 'C:\\\\Users\\sterl\\OneDrive\\Documents\\\\'\n",
    "filename = 'COUNTY_08.json'\n",
    "\n",
    "# GerryChain has a built-in function for reading graphs of this type:\n",
    "G = Graph.from_json( filepath + filename )"
   ]
  },
  {
   "cell_type": "code",
   "execution_count": 25,
   "id": "bcf883b7-1aa1-44fa-8c64-dab29a940a29",
   "metadata": {},
   "outputs": [
    {
     "name": "stdout",
     "output_type": "stream",
     "text": [
      "Node 0 is Larimer County, which has population 299630 and is centered at ( -105.4821309 , +40.6630912 )\n",
      "Node 1 is Las Animas County, which has population 15507 and is centered at ( -104.0441103 , +37.3188308 )\n",
      "Node 2 is Fremont County, which has population 46824 and is centered at ( -105.4214383 , +38.4556576 )\n",
      "Node 3 is Gunnison County, which has population 15324 and is centered at ( -107.0781080 , +38.6696792 )\n",
      "Node 4 is Conejos County, which has population 8256 and is centered at ( -106.1764473 , +37.2134065 )\n",
      "Node 5 is Eagle County, which has population 52197 and is centered at ( -106.6929439 , +39.6306381 )\n",
      "Node 6 is Otero County, which has population 18831 and is centered at ( -103.7212597 , +37.8841698 )\n",
      "Node 7 is La Plata County, which has population 51334 and is centered at ( -107.8397178 , +37.2873673 )\n",
      "Node 8 is Summit County, which has population 27994 and is centered at ( -106.1375545 , +39.6210227 )\n",
      "Node 9 is Custer County, which has population 4255 and is centered at ( -105.3735148 , +38.1019939 )\n",
      "Node 10 is Pitkin County, which has population 17148 and is centered at ( -106.9159433 , +39.2175333 )\n",
      "Node 11 is Crowley County, which has population 5823 and is centered at ( -103.7875617 , +38.3219558 )\n",
      "Node 12 is Cheyenne County, which has population 1836 and is centered at ( -102.6045852 , +38.8353865 )\n",
      "Node 13 is Bent County, which has population 6499 and is centered at ( -103.0775841 , +37.9318907 )\n",
      "Node 14 is Adams County, which has population 441603 and is centered at ( -104.3318718 , +39.8743252 )\n",
      "Node 15 is Elbert County, which has population 23086 and is centered at ( -104.1179275 , +39.3108167 )\n",
      "Node 16 is Yuma County, which has population 10043 and is centered at ( -102.4226490 , +40.0006314 )\n",
      "Node 17 is Lake County, which has population 7310 and is centered at ( -106.3496959 , +39.2043161 )\n",
      "Node 18 is Delta County, which has population 30952 and is centered at ( -107.8647570 , +38.8617559 )\n",
      "Node 19 is Costilla County, which has population 3524 and is centered at ( -105.4289399 , +37.2775474 )\n",
      "Node 20 is Garfield County, which has population 56389 and is centered at ( -107.9097801 , +39.5993517 )\n",
      "Node 21 is Morgan County, which has population 28159 and is centered at ( -103.8070921 , +40.2623535 )\n",
      "Node 22 is Prowers County, which has population 12551 and is centered at ( -102.3921613 , +37.9581814 )\n",
      "Node 23 is Montezuma County, which has population 25535 and is centered at ( -108.5957863 , +37.3380246 )\n",
      "Node 24 is Mineral County, which has population 712 and is centered at ( -106.9322997 , +37.6514782 )\n",
      "Node 25 is Lincoln County, which has population 5467 and is centered at ( -103.5075545 , +38.9937401 )\n",
      "Node 26 is Jefferson County, which has population 534543 and is centered at ( -105.2456005 , +39.5864595 )\n",
      "Node 27 is Rio Blanco County, which has population 6666 and is centered at ( -108.2006849 , +39.9726062 )\n",
      "Node 28 is Sedgwick County, which has population 2379 and is centered at ( -102.3553579 , +40.8715679 )\n",
      "Node 29 is San Miguel County, which has population 7359 and is centered at ( -108.4273260 , +38.0093735 )\n",
      "Node 30 is Alamosa County, which has population 15445 and is centered at ( -105.7880414 , +37.5684423 )\n",
      "Node 31 is Phillips County, which has population 4442 and is centered at ( -102.3451047 , +40.5947117 )\n",
      "Node 32 is Ouray County, which has population 4436 and is centered at ( -107.7671334 , +38.1505999 )\n",
      "Node 33 is Mesa County, which has population 146723 and is centered at ( -108.4618366 , +39.0194924 )\n",
      "Node 34 is Saguache County, which has population 6108 and is centered at ( -106.2466749 , +38.0339518 )\n",
      "Node 35 is Douglas County, which has population 285465 and is centered at ( -104.9261993 , +39.3264348 )\n",
      "Node 36 is Dolores County, which has population 2064 and is centered at ( -108.5303829 , +37.7476020 )\n",
      "Node 37 is Rio Grande County, which has population 11982 and is centered at ( -106.4532135 , +37.4857631 )\n",
      "Node 38 is Pueblo County, which has population 159063 and is centered at ( -104.4898925 , +38.1706581 )\n",
      "Node 39 is Kit Carson County, which has population 8270 and is centered at ( -102.6030226 , +39.3053399 )\n",
      "Node 40 is Baca County, which has population 3788 and is centered at ( -102.5354566 , +37.3031437 )\n",
      "Node 41 is Grand County, which has population 14843 and is centered at ( -106.0958757 , +40.1232891 )\n",
      "Node 42 is Logan County, which has population 22709 and is centered at ( -103.0904639 , +40.7280911 )\n",
      "Node 43 is Clear Creek County, which has population 9088 and is centered at ( -105.6707908 , +39.6894025 )\n",
      "Node 44 is Moffat County, which has population 13795 and is centered at ( -108.2045214 , +40.5739839 )\n",
      "Node 45 is Teller County, which has population 23350 and is centered at ( -105.1825519 , +38.8719937 )\n",
      "Node 46 is Boulder County, which has population 294567 and is centered at ( -105.3983824 , +40.0948262 )\n",
      "Node 47 is Kiowa County, which has population 1398 and is centered at ( -102.7562096 , +38.3884664 )\n",
      "Node 48 is Chaffee County, which has population 17809 and is centered at ( -106.3169723 , +38.7382457 )\n",
      "Node 49 is Hinsdale County, which has population 843 and is centered at ( -107.3834054 , +37.8116248 )\n",
      "Node 50 is Jackson County, which has population 1394 and is centered at ( -106.3292476 , +40.6634319 )\n",
      "Node 51 is Weld County, which has population 252825 and is centered at ( -104.3836487 , +40.5557944 )\n",
      "Node 52 is San Juan County, which has population 699 and is centered at ( -107.6702566 , +37.7810745 )\n",
      "Node 53 is Montrose County, which has population 41276 and is centered at ( -108.2630424 , +38.4134267 )\n",
      "Node 54 is Broomfield County, which has population 55889 and is centered at ( -105.0521250 , +39.9533825 )\n",
      "Node 55 is Washington County, which has population 4814 and is centered at ( -103.2096046 , +39.9654130 )\n",
      "Node 56 is Routt County, which has population 23509 and is centered at ( -106.9852885 , +40.4831597 )\n",
      "Node 57 is Archuleta County, which has population 12084 and is centered at ( -107.0508634 , +37.2023952 )\n",
      "Node 58 is Gilpin County, which has population 5441 and is centered at ( -105.5289473 , +39.8610823 )\n",
      "Node 59 is Denver County, which has population 600158 and is centered at ( -104.8806251 , +39.7618487 )\n",
      "Node 60 is Park County, which has population 16206 and is centered at ( -105.7176479 , +39.1189141 )\n",
      "Node 61 is El Paso County, which has population 622263 and is centered at ( -104.5274718 , +38.8273831 )\n",
      "Node 62 is Arapahoe County, which has population 572003 and is centered at ( -104.3317329 , +39.6446318 )\n",
      "Node 63 is Huerfano County, which has population 6711 and is centered at ( -104.9599278 , +37.6878154 )\n"
     ]
    }
   ],
   "source": [
    "# for each node, print the node #, county name, population and lat-long coordinates\n",
    "for node in G.nodes:\n",
    "    name = G.nodes[node]['NAME10']\n",
    "    population = G.nodes[node]['POP10']\n",
    "    G.nodes[node]['TOTPOP'] = population\n",
    "    \n",
    "    G.nodes[node]['C_X'] = G.nodes[node]['INTPTLON10'] # longitude of county's center\n",
    "    G.nodes[node]['C_Y'] = G.nodes[node]['INTPTLAT10'] # latitude of county's center\n",
    "    \n",
    "    print(\"Node\",node,\"is\",name,\"County, which has population\",population,\"and is centered at (\",G.nodes[node]['C_X'],\",\",G.nodes[node]['C_Y'],\")\")"
   ]
  },
  {
   "cell_type": "code",
   "execution_count": 41,
   "id": "93dcae9d-1c95-47a9-aabb-79147cf1e639",
   "metadata": {},
   "outputs": [
    {
     "name": "stdout",
     "output_type": "stream",
     "text": [
      "Using L = 711273 and U = 725641 and k = 7\n"
     ]
    }
   ],
   "source": [
    "# impose a 2% population deviation (+/- 0.5%)\n",
    "deviation = 0.02\n",
    "\n",
    "import math\n",
    "k = 7         # number of districts\n",
    "total_population = sum( G.nodes[node]['TOTPOP'] for node in G.nodes )\n",
    "\n",
    "L = math.ceil( ( 1 - deviation / 2 ) * total_population / k )\n",
    "U = math.floor( ( 1 + deviation / 2 ) * total_population / k )\n",
    "print( \"Using L =\",L,\"and U =\",U,\"and k =\",k )"
   ]
  },
  {
   "cell_type": "code",
   "execution_count": 46,
   "id": "9a955a20-beed-4a60-9496-502801014745",
   "metadata": {},
   "outputs": [],
   "source": [
    "# create distance dictionary\n",
    "from geopy.distance import geodesic\n",
    "\n",
    "dist = { (i,j) : 0 for i in G.nodes for j in G.nodes }\n",
    "for i in G.nodes:\n",
    "    for j in G.nodes:\n",
    "        loc_i = ( G.nodes[i]['C_Y'],G.nodes[i]['C_X'] )\n",
    "        loc_j = ( G.nodes[j]['C_Y'],G.nodes[j]['C_X'] )\n",
    "        dist[i,j] = geodesic( loc_i,loc_j ).miles"
   ]
  },
  {
   "cell_type": "code",
   "execution_count": 47,
   "id": "cc49d99f-6218-4609-bdd9-f1a92a4ce26e",
   "metadata": {},
   "outputs": [],
   "source": [
    "import gurobipy as gp\n",
    "from gurobipy import GRB\n",
    "\n",
    "# create model\n",
    "m = gp.Model()\n",
    "\n",
    "# create x[i,j] variable which equals one when county i is assigned to (the district centered at) county j\n",
    "x = m.addVars(G.nodes, G.nodes, vtype=GRB.BINARY)"
   ]
  },
  {
   "cell_type": "code",
   "execution_count": 48,
   "id": "1c324a3e-f347-42ef-86a5-bbe4f25f1542",
   "metadata": {},
   "outputs": [],
   "source": [
    " # set objective to minimize the moment of inertia\\n\",\n",
    "m.setObjective( gp.quicksum( dist[i,j] * dist[i,j] * G.nodes[i]['TOTPOP'] * x[i,j] for i in G.nodes for j in G.nodes ), GRB.MINIMIZE )"
   ]
  },
  {
   "cell_type": "code",
   "execution_count": 49,
   "id": "727da8df-026f-40b9-b754-aa6b323155b8",
   "metadata": {},
   "outputs": [],
   "source": [
    "# add constraints saying that each county i is assigned to one district\n",
    "m.addConstrs( gp.quicksum( x[i,j] for j in G.nodes ) == 1 for i in G.nodes )\n",
    "\n",
    "# add constraint saying there should be k district centers\n",
    "m.addConstr( gp.quicksum( x[j,j] for j in G.nodes ) == k )\n",
    "\n",
    "# add constraints that say: if j roots a district, then its population is between L and U.\n",
    "m.addConstrs( gp.quicksum( G.nodes[i]['TOTPOP'] * x[i,j] for i in G.nodes ) >= L * x[j,j] for j in G.nodes )\n",
    "m.addConstrs( gp.quicksum( G.nodes[i]['TOTPOP'] * x[i,j] for i in G.nodes ) <= U * x[j,j] for j in G.nodes )\n",
    "\n",
    "# add coupling constraints saying that if i is assigned to j, then j is a center.\n",
    "m.addConstrs( x[i,j] <= x[j,j] for i in G.nodes for j in G.nodes )\n",
    "\n",
    "m.update()"
   ]
  },
  {
   "cell_type": "code",
   "execution_count": 50,
   "id": "9f5dd2bf-696a-42a1-94af-81790ae4f7e6",
   "metadata": {},
   "outputs": [],
   "source": [
    "# add contiguity constraints\n",
    "import networkx as nx\n",
    "DG = nx.DiGraph(G)\n",
    "\n",
    "# add flow variables\n",
    "f = m.addVars( DG.edges, G.nodes ) # f[i,j,v] = flow across arc (i,j) that is sent from root v\n",
    "\n",
    "# add constraints saying that if node i is assigned to node j, then node i must consume one unit of node j's flow\n",
    "m.addConstrs( gp.quicksum( f[u,i,j] - f[i,u,j] for u in G.neighbors(i) ) == x[i,j] for i in G.nodes for j in G.nodes if i != j )\n",
    "\n",
    "# add constraints saying that node i can recieve flow of type j only if node i is assigned to node j\n",
    "M = G.number_of_nodes() - 1\n",
    "m.addConstrs( gp.quicksum( f[u,i,j] for u in G.neighbors(i) ) <= M * x[i,j] for i in G.nodes for j in G.nodes if i!= j )\n",
    "\n",
    "# add constraints saying that node j cannot recieve flow of its own type\n",
    "m.addConstrs( gp.quicksum( f[u,j,j] for u in G.neighbors(j) ) == 0 for j in G.nodes )\n",
    "\n",
    "m.update()"
   ]
  },
  {
   "cell_type": "code",
   "execution_count": 51,
   "id": "29af6fb0-d830-493c-97b1-532a33f6ef02",
   "metadata": {},
   "outputs": [
    {
     "name": "stdout",
     "output_type": "stream",
     "text": [
      "Set parameter MIPGap to value 0\n",
      "Gurobi Optimizer version 10.0.3 build v10.0.3rc0 (win64)\n",
      "\n",
      "CPU model: Intel(R) Core(TM) i7-10750H CPU @ 2.60GHz, instruction set [SSE2|AVX|AVX2]\n",
      "Thread count: 6 physical cores, 12 logical processors, using up to 12 threads\n",
      "\n"
     ]
    },
    {
     "ename": "GurobiError",
     "evalue": "Model too large for size-limited license; visit https://www.gurobi.com/free-trial for a full license",
     "output_type": "error",
     "traceback": [
      "\u001b[1;31m---------------------------------------------------------------------------\u001b[0m",
      "\u001b[1;31mGurobiError\u001b[0m                               Traceback (most recent call last)",
      "Cell \u001b[1;32mIn[51], line 4\u001b[0m\n\u001b[0;32m      1\u001b[0m \u001b[38;5;66;03m# solve, with a 0.00% MIP gap tolerance\u001b[39;00m\n\u001b[0;32m      2\u001b[0m m\u001b[38;5;241m.\u001b[39mParams\u001b[38;5;241m.\u001b[39mMIPGap \u001b[38;5;241m=\u001b[39m \u001b[38;5;241m0.0\u001b[39m\n\u001b[1;32m----> 4\u001b[0m m\u001b[38;5;241m.\u001b[39moptimize()\n",
      "File \u001b[1;32msrc\\gurobipy\\model.pxi:878\u001b[0m, in \u001b[0;36mgurobipy.Model.optimize\u001b[1;34m()\u001b[0m\n",
      "\u001b[1;31mGurobiError\u001b[0m: Model too large for size-limited license; visit https://www.gurobi.com/free-trial for a full license"
     ]
    }
   ],
   "source": [
    "# solve, with a 0.00% MIP gap tolerance\n",
    "m.Params.MIPGap = 0.0\n",
    "\n",
    "m.optimize()"
   ]
  },
  {
   "cell_type": "code",
   "execution_count": 22,
   "id": "fad64453-5651-4ea9-8a32-8ef01e7c4317",
   "metadata": {},
   "outputs": [
    {
     "ename": "AttributeError",
     "evalue": "Unable to retrieve attribute 'objVal'",
     "output_type": "error",
     "traceback": [
      "\u001b[1;31m---------------------------------------------------------------------------\u001b[0m",
      "\u001b[1;31mAttributeError\u001b[0m                            Traceback (most recent call last)",
      "Cell \u001b[1;32mIn[22], line 2\u001b[0m\n\u001b[0;32m      1\u001b[0m \u001b[38;5;66;03m# print the objective value\u001b[39;00m\n\u001b[1;32m----> 2\u001b[0m \u001b[38;5;28mprint\u001b[39m(\u001b[38;5;124m'\u001b[39m\u001b[38;5;124mThe objective value is =\u001b[39m\u001b[38;5;124m'\u001b[39m,m\u001b[38;5;241m.\u001b[39mobjVal)\n\u001b[0;32m      3\u001b[0m \u001b[38;5;28mprint\u001b[39m(\u001b[38;5;124m'\u001b[39m\u001b[38;5;124m'\u001b[39m)\n\u001b[0;32m      5\u001b[0m \u001b[38;5;66;03m# retrieve the district \"centers\"\u001b[39;00m\n",
      "File \u001b[1;32msrc\\gurobipy\\model.pxi:357\u001b[0m, in \u001b[0;36mgurobipy.Model.__getattr__\u001b[1;34m()\u001b[0m\n",
      "File \u001b[1;32msrc\\gurobipy\\model.pxi:1871\u001b[0m, in \u001b[0;36mgurobipy.Model.getAttr\u001b[1;34m()\u001b[0m\n",
      "File \u001b[1;32msrc\\gurobipy\\attrutil.pxi:100\u001b[0m, in \u001b[0;36mgurobipy.__getattr\u001b[1;34m()\u001b[0m\n",
      "\u001b[1;31mAttributeError\u001b[0m: Unable to retrieve attribute 'objVal'"
     ]
    }
   ],
   "source": [
    "# print the objective value\n",
    "print('The objective value is =',m.objVal)\n",
    "print('')\n",
    "\n",
    "# retrieve the district \"centers\"\n",
    "centers = [ j for j in G.nodes if x[j,j].x > 0.5 ]\n",
    "\n",
    "# retrieve the districts and their populations\n",
    "districts = [ [ i for i in G.nodes if x[i,j].x > 0.5 ] for j in centers ]\n",
    "district_counties = [ [ G.nodes[i][\"NAME20\"] for i in districts[j] ] for j in range(k) ]\n",
    "district_populations = [ sum( G.nodes[i][\"TOTPOP\"] for i in districts[j] ) for j in range(k) ]\n",
    "\n",
    "# print district info\n",
    "for j in range(k):\n",
    "    print(\"District\",j,\"has population\",district_populations[j],\"and contains counties\",district_counties[j])\n",
    "    print(\"\")\n",
    "\n",
    "# print deviation between districts\n",
    "print(\"The deviation between the districts is\",abs( district_populations[0]-district_populations[1] ),\"persons.\" )"
   ]
  },
  {
   "cell_type": "code",
   "execution_count": 34,
   "id": "8880ef61-8540-4c20-8d47-f9fb5ab85c72",
   "metadata": {},
   "outputs": [
    {
     "ename": "DriverError",
     "evalue": "C:\\Users\\sterl\\OneDrive\\Documents\\CO_counties.shp: No such file or directory",
     "output_type": "error",
     "traceback": [
      "\u001b[1;31m---------------------------------------------------------------------------\u001b[0m",
      "\u001b[1;31mCPLE_OpenFailedError\u001b[0m                      Traceback (most recent call last)",
      "File \u001b[1;32mfiona\\ogrext.pyx:136\u001b[0m, in \u001b[0;36mfiona.ogrext.gdal_open_vector\u001b[1;34m()\u001b[0m\n",
      "File \u001b[1;32mfiona\\_err.pyx:291\u001b[0m, in \u001b[0;36mfiona._err.exc_wrap_pointer\u001b[1;34m()\u001b[0m\n",
      "\u001b[1;31mCPLE_OpenFailedError\u001b[0m: C:\\Users\\sterl\\OneDrive\\Documents\\CO_counties.shp: No such file or directory",
      "\nDuring handling of the above exception, another exception occurred:\n",
      "\u001b[1;31mDriverError\u001b[0m                               Traceback (most recent call last)",
      "Cell \u001b[1;32mIn[34], line 7\u001b[0m\n\u001b[0;32m      4\u001b[0m filename \u001b[38;5;241m=\u001b[39m \u001b[38;5;124m'\u001b[39m\u001b[38;5;124mCO_counties.shp\u001b[39m\u001b[38;5;124m'\u001b[39m\n\u001b[0;32m      6\u001b[0m \u001b[38;5;66;03m# Read geopandas dataframe from file\u001b[39;00m\n\u001b[1;32m----> 7\u001b[0m df \u001b[38;5;241m=\u001b[39m gpd\u001b[38;5;241m.\u001b[39mread_file( filepath \u001b[38;5;241m+\u001b[39m filename )\n",
      "File \u001b[1;32mC:\\ProgramData\\anaconda3\\Lib\\site-packages\\geopandas\\io\\file.py:297\u001b[0m, in \u001b[0;36m_read_file\u001b[1;34m(filename, bbox, mask, rows, engine, **kwargs)\u001b[0m\n\u001b[0;32m    294\u001b[0m     \u001b[38;5;28;01melse\u001b[39;00m:\n\u001b[0;32m    295\u001b[0m         path_or_bytes \u001b[38;5;241m=\u001b[39m filename\n\u001b[1;32m--> 297\u001b[0m     \u001b[38;5;28;01mreturn\u001b[39;00m _read_file_fiona(\n\u001b[0;32m    298\u001b[0m         path_or_bytes, from_bytes, bbox\u001b[38;5;241m=\u001b[39mbbox, mask\u001b[38;5;241m=\u001b[39mmask, rows\u001b[38;5;241m=\u001b[39mrows, \u001b[38;5;241m*\u001b[39m\u001b[38;5;241m*\u001b[39mkwargs\n\u001b[0;32m    299\u001b[0m     )\n\u001b[0;32m    301\u001b[0m \u001b[38;5;28;01melse\u001b[39;00m:\n\u001b[0;32m    302\u001b[0m     \u001b[38;5;28;01mraise\u001b[39;00m \u001b[38;5;167;01mValueError\u001b[39;00m(\u001b[38;5;124mf\u001b[39m\u001b[38;5;124m\"\u001b[39m\u001b[38;5;124munknown engine \u001b[39m\u001b[38;5;124m'\u001b[39m\u001b[38;5;132;01m{\u001b[39;00mengine\u001b[38;5;132;01m}\u001b[39;00m\u001b[38;5;124m'\u001b[39m\u001b[38;5;124m\"\u001b[39m)\n",
      "File \u001b[1;32mC:\\ProgramData\\anaconda3\\Lib\\site-packages\\geopandas\\io\\file.py:338\u001b[0m, in \u001b[0;36m_read_file_fiona\u001b[1;34m(path_or_bytes, from_bytes, bbox, mask, rows, where, **kwargs)\u001b[0m\n\u001b[0;32m    335\u001b[0m     reader \u001b[38;5;241m=\u001b[39m fiona\u001b[38;5;241m.\u001b[39mopen\n\u001b[0;32m    337\u001b[0m \u001b[38;5;28;01mwith\u001b[39;00m fiona_env():\n\u001b[1;32m--> 338\u001b[0m     \u001b[38;5;28;01mwith\u001b[39;00m reader(path_or_bytes, \u001b[38;5;241m*\u001b[39m\u001b[38;5;241m*\u001b[39mkwargs) \u001b[38;5;28;01mas\u001b[39;00m features:\n\u001b[0;32m    339\u001b[0m         crs \u001b[38;5;241m=\u001b[39m features\u001b[38;5;241m.\u001b[39mcrs_wkt\n\u001b[0;32m    340\u001b[0m         \u001b[38;5;66;03m# attempt to get EPSG code\u001b[39;00m\n",
      "File \u001b[1;32mC:\\ProgramData\\anaconda3\\Lib\\site-packages\\fiona\\env.py:457\u001b[0m, in \u001b[0;36mensure_env_with_credentials.<locals>.wrapper\u001b[1;34m(*args, **kwds)\u001b[0m\n\u001b[0;32m    454\u001b[0m     session \u001b[38;5;241m=\u001b[39m DummySession()\n\u001b[0;32m    456\u001b[0m \u001b[38;5;28;01mwith\u001b[39;00m env_ctor(session\u001b[38;5;241m=\u001b[39msession):\n\u001b[1;32m--> 457\u001b[0m     \u001b[38;5;28;01mreturn\u001b[39;00m f(\u001b[38;5;241m*\u001b[39margs, \u001b[38;5;241m*\u001b[39m\u001b[38;5;241m*\u001b[39mkwds)\n",
      "File \u001b[1;32mC:\\ProgramData\\anaconda3\\Lib\\site-packages\\fiona\\__init__.py:335\u001b[0m, in \u001b[0;36mopen\u001b[1;34m(fp, mode, driver, schema, crs, encoding, layer, vfs, enabled_drivers, crs_wkt, allow_unsupported_drivers, **kwargs)\u001b[0m\n\u001b[0;32m    332\u001b[0m     path \u001b[38;5;241m=\u001b[39m parse_path(fp)\n\u001b[0;32m    334\u001b[0m \u001b[38;5;28;01mif\u001b[39;00m mode \u001b[38;5;129;01min\u001b[39;00m (\u001b[38;5;124m\"\u001b[39m\u001b[38;5;124ma\u001b[39m\u001b[38;5;124m\"\u001b[39m, \u001b[38;5;124m\"\u001b[39m\u001b[38;5;124mr\u001b[39m\u001b[38;5;124m\"\u001b[39m):\n\u001b[1;32m--> 335\u001b[0m     colxn \u001b[38;5;241m=\u001b[39m Collection(\n\u001b[0;32m    336\u001b[0m         path,\n\u001b[0;32m    337\u001b[0m         mode,\n\u001b[0;32m    338\u001b[0m         driver\u001b[38;5;241m=\u001b[39mdriver,\n\u001b[0;32m    339\u001b[0m         encoding\u001b[38;5;241m=\u001b[39mencoding,\n\u001b[0;32m    340\u001b[0m         layer\u001b[38;5;241m=\u001b[39mlayer,\n\u001b[0;32m    341\u001b[0m         enabled_drivers\u001b[38;5;241m=\u001b[39menabled_drivers,\n\u001b[0;32m    342\u001b[0m         allow_unsupported_drivers\u001b[38;5;241m=\u001b[39mallow_unsupported_drivers,\n\u001b[0;32m    343\u001b[0m         \u001b[38;5;241m*\u001b[39m\u001b[38;5;241m*\u001b[39mkwargs\n\u001b[0;32m    344\u001b[0m     )\n\u001b[0;32m    345\u001b[0m \u001b[38;5;28;01melif\u001b[39;00m mode \u001b[38;5;241m==\u001b[39m \u001b[38;5;124m\"\u001b[39m\u001b[38;5;124mw\u001b[39m\u001b[38;5;124m\"\u001b[39m:\n\u001b[0;32m    346\u001b[0m     colxn \u001b[38;5;241m=\u001b[39m Collection(\n\u001b[0;32m    347\u001b[0m         path,\n\u001b[0;32m    348\u001b[0m         mode,\n\u001b[1;32m   (...)\u001b[0m\n\u001b[0;32m    357\u001b[0m         \u001b[38;5;241m*\u001b[39m\u001b[38;5;241m*\u001b[39mkwargs\n\u001b[0;32m    358\u001b[0m     )\n",
      "File \u001b[1;32mC:\\ProgramData\\anaconda3\\Lib\\site-packages\\fiona\\collection.py:234\u001b[0m, in \u001b[0;36mCollection.__init__\u001b[1;34m(self, path, mode, driver, schema, crs, encoding, layer, vsi, archive, enabled_drivers, crs_wkt, ignore_fields, ignore_geometry, include_fields, wkt_version, allow_unsupported_drivers, **kwargs)\u001b[0m\n\u001b[0;32m    232\u001b[0m \u001b[38;5;28;01mif\u001b[39;00m \u001b[38;5;28mself\u001b[39m\u001b[38;5;241m.\u001b[39mmode \u001b[38;5;241m==\u001b[39m \u001b[38;5;124m\"\u001b[39m\u001b[38;5;124mr\u001b[39m\u001b[38;5;124m\"\u001b[39m:\n\u001b[0;32m    233\u001b[0m     \u001b[38;5;28mself\u001b[39m\u001b[38;5;241m.\u001b[39msession \u001b[38;5;241m=\u001b[39m Session()\n\u001b[1;32m--> 234\u001b[0m     \u001b[38;5;28mself\u001b[39m\u001b[38;5;241m.\u001b[39msession\u001b[38;5;241m.\u001b[39mstart(\u001b[38;5;28mself\u001b[39m, \u001b[38;5;241m*\u001b[39m\u001b[38;5;241m*\u001b[39mkwargs)\n\u001b[0;32m    235\u001b[0m \u001b[38;5;28;01melif\u001b[39;00m \u001b[38;5;28mself\u001b[39m\u001b[38;5;241m.\u001b[39mmode \u001b[38;5;129;01min\u001b[39;00m (\u001b[38;5;124m\"\u001b[39m\u001b[38;5;124ma\u001b[39m\u001b[38;5;124m\"\u001b[39m, \u001b[38;5;124m\"\u001b[39m\u001b[38;5;124mw\u001b[39m\u001b[38;5;124m\"\u001b[39m):\n\u001b[0;32m    236\u001b[0m     \u001b[38;5;28mself\u001b[39m\u001b[38;5;241m.\u001b[39msession \u001b[38;5;241m=\u001b[39m WritingSession()\n",
      "File \u001b[1;32mfiona\\ogrext.pyx:587\u001b[0m, in \u001b[0;36mfiona.ogrext.Session.start\u001b[1;34m()\u001b[0m\n",
      "File \u001b[1;32mfiona\\ogrext.pyx:143\u001b[0m, in \u001b[0;36mfiona.ogrext.gdal_open_vector\u001b[1;34m()\u001b[0m\n",
      "\u001b[1;31mDriverError\u001b[0m: C:\\Users\\sterl\\OneDrive\\Documents\\CO_counties.shp: No such file or directory"
     ]
    }
   ],
   "source": [
    "# Read Colorado county shapefile \n",
    "import geopandas as gpd\n",
    "filepath = 'C:\\\\Users\\sterl\\OneDrive\\Documents\\\\'\n",
    "filename = 'CO_counties.shp'\n",
    "\n",
    "# Read geopandas dataframe from file\n",
    "df = gpd.read_file( filepath + filename )"
   ]
  },
  {
   "cell_type": "code",
   "execution_count": 35,
   "id": "9a5be8e6-cb96-43ee-a839-496bf444b8a3",
   "metadata": {},
   "outputs": [
    {
     "ename": "NameError",
     "evalue": "name 'districts' is not defined",
     "output_type": "error",
     "traceback": [
      "\u001b[1;31m---------------------------------------------------------------------------\u001b[0m",
      "\u001b[1;31mNameError\u001b[0m                                 Traceback (most recent call last)",
      "Cell \u001b[1;32mIn[35], line 6\u001b[0m\n\u001b[0;32m      4\u001b[0m labeling \u001b[38;5;241m=\u001b[39m { i : \u001b[38;5;241m-\u001b[39m\u001b[38;5;241m1\u001b[39m \u001b[38;5;28;01mfor\u001b[39;00m i \u001b[38;5;129;01min\u001b[39;00m G\u001b[38;5;241m.\u001b[39mnodes }\n\u001b[0;32m      5\u001b[0m \u001b[38;5;28;01mfor\u001b[39;00m j \u001b[38;5;129;01min\u001b[39;00m \u001b[38;5;28mrange\u001b[39m(k):\n\u001b[1;32m----> 6\u001b[0m     district \u001b[38;5;241m=\u001b[39m districts[j]\n\u001b[0;32m      7\u001b[0m     \u001b[38;5;28;01mfor\u001b[39;00m i \u001b[38;5;129;01min\u001b[39;00m district:\n\u001b[0;32m      8\u001b[0m         labeling[i] \u001b[38;5;241m=\u001b[39m j\n",
      "\u001b[1;31mNameError\u001b[0m: name 'districts' is not defined"
     ]
    }
   ],
   "source": [
    "# county i is assigned to district j\n",
    "assignment = [ -1 for i in G.nodes ]\n",
    "\n",
    "labeling = { i : -1 for i in G.nodes }\n",
    "for j in range(k):\n",
    "    district = districts[j]\n",
    "    for i in district:\n",
    "        labeling[i] = j\n",
    "\n",
    "\n",
    "# add the assignments to a column of the dataframe and map it\n",
    "node_with_this_geoid = {G.nodes[i]['GEOID20'] : i for i in G.nodes}\n",
    "\n",
    "# pick a position u in the dataframe\n",
    "for u in range(G.number_of_nodes()):\n",
    "    \n",
    "    geoid = df['GEOID20'][u]\n",
    "    \n",
    "    # what node in G has this geoid?\n",
    "    i = node_with_this_geoid[geoid]\n",
    "    \n",
    "    # position u in the dataframe should be given the same district # that county i has in 'labeling'\n",
    "    assignment[u] = labeling[i] \n",
    "\n",
    "# now add the assignments to a column of our dataframe and then map it\n",
    "df['assignment'] = assignment\n",
    "\n",
    "my_fig = df.plot(column='assignment').get_figure()"
   ]
  },
  {
   "cell_type": "code",
   "execution_count": null,
   "id": "06e99788-8af7-460c-b6cc-2b964b449fc5",
   "metadata": {},
   "outputs": [],
   "source": []
  }
 ],
 "metadata": {
  "kernelspec": {
   "display_name": "Python 3 (ipykernel)",
   "language": "python",
   "name": "python3"
  },
  "language_info": {
   "codemirror_mode": {
    "name": "ipython",
    "version": 3
   },
   "file_extension": ".py",
   "mimetype": "text/x-python",
   "name": "python",
   "nbconvert_exporter": "python",
   "pygments_lexer": "ipython3",
   "version": "3.11.5"
  }
 },
 "nbformat": 4,
 "nbformat_minor": 5
}
