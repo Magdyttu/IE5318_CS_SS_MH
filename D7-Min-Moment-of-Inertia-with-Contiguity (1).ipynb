{
 "cells": [
  {
   "cell_type": "code",
   "execution_count": 5,
   "metadata": {},
   "outputs": [],
   "source": [
    "from gerrychain import Graph"
   ]
  },
  {
   "cell_type": "code",
   "execution_count": 6,
   "metadata": {},
   "outputs": [],
   "source": [
    "# Read Colorado county graph from the json file \"COUNTY_08.json\"\n",
    "filepath = 'C:\\\\Users\\sterl\\OneDrive\\Documents\\\\'\n",
    "filename = 'COUNTY_08.json'\n",
    "\n",
    "# GerryChain has a built-in function for reading graphs of this type:\n",
    "G = Graph.from_json( filepath + filename )"
   ]
  },
  {
   "cell_type": "code",
   "execution_count": 7,
   "metadata": {},
   "outputs": [
    {
     "name": "stdout",
     "output_type": "stream",
     "text": [
      "Node 0 is Larimer County, which has population 299630 and is centered at ( -105.46115548979994 , 40.66641349770793 )\n",
      "Node 1 is Las Animas County, which has population 15507 and is centered at ( -104.03871637705137 , 37.31585080985697 )\n",
      "Node 2 is Fremont County, which has population 46824 and is centered at ( -105.4396570680379 , 38.472972462552946 )\n",
      "Node 3 is Gunnison County, which has population 15324 and is centered at ( -107.03170010996529 , 38.66679771110492 )\n",
      "Node 4 is Conejos County, which has population 8256 and is centered at ( -106.19162861810288 , 37.200696442550516 )\n",
      "Node 5 is Eagle County, which has population 52197 and is centered at ( -106.69529923763571 , 39.62782564739975 )\n",
      "Node 6 is Otero County, which has population 18831 and is centered at ( -103.71644567833219 , 37.90270171917877 )\n",
      "Node 7 is La Plata County, which has population 51334 and is centered at ( -107.84333549404876 , 37.28655819216788 )\n",
      "Node 8 is Summit County, which has population 27994 and is centered at ( -106.1163790244413 , 39.63417044607413 )\n",
      "Node 9 is Custer County, which has population 4255 and is centered at ( -105.36747178347571 , 38.10867789893696 )\n",
      "Node 10 is Pitkin County, which has population 17148 and is centered at ( -106.91657776595446 , 39.21710577119509 )\n",
      "Node 11 is Crowley County, which has population 5823 and is centered at ( -103.7848256603328 , 38.32666106552571 )\n",
      "Node 12 is Cheyenne County, which has population 1836 and is centered at ( -102.60339581229927 , 38.8279397243513 )\n",
      "Node 13 is Bent County, which has population 6499 and is centered at ( -103.07170457865051 , 37.955085573350516 )\n",
      "Node 14 is Adams County, which has population 441603 and is centered at ( -104.33793521991805 , 39.87363357874265 )\n",
      "Node 15 is Elbert County, which has population 23086 and is centered at ( -104.1358916079689 , 39.286560123593816 )\n",
      "Node 16 is Yuma County, which has population 10043 and is centered at ( -102.42422632485469 , 40.00289933021407 )\n",
      "Node 17 is Lake County, which has population 7310 and is centered at ( -106.34483773129183 , 39.202379472454375 )\n",
      "Node 18 is Delta County, which has population 30952 and is centered at ( -107.86287686701985 , 38.86137377269844 )\n",
      "Node 19 is Costilla County, which has population 3524 and is centered at ( -105.42826937221837 , 37.27809647878287 )\n",
      "Node 20 is Garfield County, which has population 56389 and is centered at ( -107.90395367789407 , 39.59930662243117 )\n",
      "Node 21 is Morgan County, which has population 28159 and is centered at ( -103.80982132354985 , 40.26270700743724 )\n",
      "Node 22 is Prowers County, which has population 12551 and is centered at ( -102.39334899613583 , 37.95518319773245 )\n",
      "Node 23 is Montezuma County, which has population 25535 and is centered at ( -108.59671297044139 , 37.33841376585821 )\n",
      "Node 24 is Mineral County, which has population 712 and is centered at ( -106.92409464587163 , 37.66899568293911 )\n",
      "Node 25 is Lincoln County, which has population 5467 and is centered at ( -103.51396535270291 , 38.98806853941778 )\n",
      "Node 26 is Jefferson County, which has population 534543 and is centered at ( -105.25047224636323 , 39.586422479015 )\n",
      "Node 27 is Rio Blanco County, which has population 6666 and is centered at ( -108.21720833272427 , 39.97984112147998 )\n",
      "Node 28 is Sedgwick County, which has population 2379 and is centered at ( -102.35179119902048 , 40.87590497269915 )\n",
      "Node 29 is San Miguel County, which has population 7359 and is centered at ( -108.40584624267468 , 38.00374472116215 )\n",
      "Node 30 is Alamosa County, which has population 15445 and is centered at ( -105.78828660682072 , 37.57289244857248 )\n",
      "Node 31 is Phillips County, which has population 4442 and is centered at ( -102.35757960967655 , 40.593884322450116 )\n",
      "Node 32 is Ouray County, which has population 4436 and is centered at ( -107.76931688490252 , 38.155497235803985 )\n",
      "Node 33 is Mesa County, which has population 146723 and is centered at ( -108.4664507372487 , 39.01827889357678 )\n",
      "Node 34 is Saguache County, which has population 6108 and is centered at ( -106.28155554415721 , 38.08055271701165 )\n",
      "Node 35 is Douglas County, which has population 285465 and is centered at ( -104.92956081208483 , 39.32972341540037 )\n",
      "Node 36 is Dolores County, which has population 2064 and is centered at ( -108.51722121935192 , 37.75159770824953 )\n",
      "Node 37 is Rio Grande County, which has population 11982 and is centered at ( -106.38321046502243 , 37.58252275015116 )\n",
      "Node 38 is Pueblo County, which has population 159063 and is centered at ( -104.51284681094513 , 38.173423881729235 )\n",
      "Node 39 is Kit Carson County, which has population 8270 and is centered at ( -102.6028874242986 , 39.30544132695203 )\n",
      "Node 40 is Baca County, which has population 3788 and is centered at ( -102.56046919704146 , 37.319183106011224 )\n",
      "Node 41 is Grand County, which has population 14843 and is centered at ( -106.11835833789004 , 40.10261493495426 )\n",
      "Node 42 is Logan County, which has population 22709 and is centered at ( -103.11010275130502 , 40.72467810697156 )\n",
      "Node 43 is Clear Creek County, which has population 9088 and is centered at ( -105.64435901541911 , 39.68910239874437 )\n",
      "Node 44 is Moffat County, which has population 13795 and is centered at ( -108.20729834671994 , 40.61842518944656 )\n",
      "Node 45 is Teller County, which has population 23350 and is centered at ( -105.16182639615765 , 38.88217206883576 )\n",
      "Node 46 is Boulder County, which has population 294567 and is centered at ( -105.3577419513778 , 40.09247391806482 )\n",
      "Node 47 is Kiowa County, which has population 1398 and is centered at ( -102.74035824895607 , 38.43268240240303 )\n",
      "Node 48 is Chaffee County, which has population 17809 and is centered at ( -106.19406666505945 , 38.746903085481385 )\n",
      "Node 49 is Hinsdale County, which has population 843 and is centered at ( -107.30031175682635 , 37.821341575033664 )\n",
      "Node 50 is Jackson County, which has population 1394 and is centered at ( -106.34279469116676 , 40.6664326888787 )\n",
      "Node 51 is Weld County, which has population 252825 and is centered at ( -104.39252543760372 , 40.55483961256743 )\n",
      "Node 52 is San Juan County, which has population 699 and is centered at ( -107.67614724838798 , 37.76404316500575 )\n",
      "Node 53 is Montrose County, which has population 41276 and is centered at ( -108.26935583256858 , 38.402184711727585 )\n",
      "Node 54 is Broomfield County, which has population 55889 and is centered at ( -105.05279824460897 , 39.954180918261294 )\n",
      "Node 55 is Washington County, which has population 4814 and is centered at ( -103.20125289809093 , 39.971061789077936 )\n",
      "Node 56 is Routt County, which has population 23509 and is centered at ( -106.991193189253 , 40.48506794652029 )\n",
      "Node 57 is Archuleta County, which has population 12084 and is centered at ( -107.04832926923211 , 37.19359631460077 )\n",
      "Node 58 is Gilpin County, which has population 5441 and is centered at ( -105.52253147641495 , 39.85755812968606 )\n",
      "Node 59 is Denver County, which has population 600158 and is centered at ( -104.87636530269393 , 39.762028379621064 )\n",
      "Node 60 is Park County, which has population 16206 and is centered at ( -105.71717461025456 , 39.11930278017878 )\n",
      "Node 61 is El Paso County, which has population 622263 and is centered at ( -104.52558327617193 , 38.832092720030026 )\n",
      "Node 62 is Arapahoe County, which has population 572003 and is centered at ( -104.33921896061108 , 39.6497724893707 )\n",
      "Node 63 is Huerfano County, which has population 6711 and is centered at ( -104.9605845316439 , 37.68467963881702 )\n"
     ]
    }
   ],
   "source": [
    "# For each node, print the node #, county name, and its population\n",
    "for node in G.nodes:\n",
    "    name = G.nodes[node][\"NAME10\"]\n",
    "    population = G.nodes[node]['TOTPOP']\n",
    "    x_coordinate = G.nodes[node]['C_X']\n",
    "    y_coordinate = G.nodes[node]['C_Y']\n",
    "    print(\"Node\",node,\"is\",name,\"County, which has population\",population,\"and is centered at (\",x_coordinate,\",\",y_coordinate,\")\")"
   ]
  },
  {
   "cell_type": "code",
   "execution_count": 4,
   "metadata": {},
   "outputs": [],
   "source": [
    "# pip install geopy"
   ]
  },
  {
   "cell_type": "code",
   "execution_count": 8,
   "metadata": {},
   "outputs": [
    {
     "ename": "ModuleNotFoundError",
     "evalue": "No module named 'geopy'",
     "output_type": "error",
     "traceback": [
      "\u001b[1;31m---------------------------------------------------------------------------\u001b[0m",
      "\u001b[1;31mModuleNotFoundError\u001b[0m                       Traceback (most recent call last)",
      "Cell \u001b[1;32mIn[8], line 1\u001b[0m\n\u001b[1;32m----> 1\u001b[0m \u001b[38;5;28;01mfrom\u001b[39;00m \u001b[38;5;21;01mgeopy\u001b[39;00m\u001b[38;5;21;01m.\u001b[39;00m\u001b[38;5;21;01mdistance\u001b[39;00m \u001b[38;5;28;01mimport\u001b[39;00m geodesic\n\u001b[0;32m      3\u001b[0m \u001b[38;5;66;03m# Store centroid location as ( long, lat )\u001b[39;00m\n\u001b[0;32m      4\u001b[0m Denver \u001b[38;5;241m=\u001b[39m ( G\u001b[38;5;241m.\u001b[39mnodes[\u001b[38;5;241m0\u001b[39m][\u001b[38;5;124m'\u001b[39m\u001b[38;5;124mC_Y\u001b[39m\u001b[38;5;124m'\u001b[39m],  G\u001b[38;5;241m.\u001b[39mnodes[\u001b[38;5;241m0\u001b[39m][\u001b[38;5;124m'\u001b[39m\u001b[38;5;124mC_X\u001b[39m\u001b[38;5;124m'\u001b[39m] )\n",
      "\u001b[1;31mModuleNotFoundError\u001b[0m: No module named 'geopy'"
     ]
    }
   ],
   "source": [
    "\n",
    "from geopy.distance import geodesic\n",
    "\n",
    "# Store centroid location as ( long, lat )\n",
    "Denver = ( G.nodes[0]['C_Y'],  G.nodes[0]['C_X'] )\n",
    "Park = ( G.nodes[15]['C_Y'], G.nodes[15]['C_X'] )\n",
    "Pueblo = ( G.nodes[23]['C_Y'], G.nodes[23]['C_X'] )\n",
    "\n",
    "# Print the distance in miles\n",
    "print(\"Payne -> Oklahoma:\",geodesic(Payne, Oklahoma).miles)\n",
    "print(\"Oklahoma -> Tulsa:\",geodesic(Oklahoma, Tulsa).miles)\n",
    "print(\"Tulsa -> Payne:\",geodesic(Tulsa, Payne).miles)"
   ]
  },
  {
   "cell_type": "code",
   "execution_count": null,
   "metadata": {},
   "outputs": [],
   "source": [
    "# create distance dictionary\n",
    "dist = dict()\n",
    "for i in G.nodes:\n",
    "    for j in G.nodes:\n",
    "        loc_i = ( G.nodes[i]['C_Y'],  G.nodes[i]['C_X'] )\n",
    "        loc_j = ( G.nodes[j]['C_Y'],  G.nodes[j]['C_X'] )\n",
    "        dist[i,j] = geodesic(loc_i,loc_j).miles"
   ]
  },
  {
   "cell_type": "code",
   "execution_count": null,
   "metadata": {},
   "outputs": [],
   "source": [
    "# check the dictionary by printing the Payne County -> Oklahoma County distance\n",
    "print(\"Payne -> Oklahoma:\",dist[0,15])"
   ]
  },
  {
   "cell_type": "code",
   "execution_count": null,
   "metadata": {},
   "outputs": [],
   "source": [
    "# Let's impose a 1% population deviation (+/- 0.5%)\n",
    "deviation = 0.01\n",
    "\n",
    "import math\n",
    "k = 7         # number of districts\n",
    "total_population = sum(G.nodes[node]['TOTPOP'] for node in G.nodes)\n",
    "\n",
    "L = math.ceil((1-deviation/2)*total_population/k)\n",
    "U = math.floor((1+deviation/2)*total_population/k)\n",
    "print(\"Using L =\",L,\"and U =\",U,\"and k =\",k)"
   ]
  },
  {
   "cell_type": "code",
   "execution_count": 9,
   "metadata": {},
   "outputs": [
    {
     "name": "stdout",
     "output_type": "stream",
     "text": [
      "Set parameter Username\n"
     ]
    }
   ],
   "source": [
    "import gurobipy as gp\n",
    "from gurobipy import GRB\n",
    "\n",
    "# create model \n",
    "m = gp.Model()\n",
    "\n",
    "# create x[i,j] variable which equals one when county i \n",
    "#    is assigned to (the district centered at) county j\n",
    "x = m.addVars(G.nodes, G.nodes, vtype=GRB.BINARY) "
   ]
  },
  {
   "cell_type": "code",
   "execution_count": 10,
   "metadata": {},
   "outputs": [
    {
     "ename": "NameError",
     "evalue": "name 'dist' is not defined",
     "output_type": "error",
     "traceback": [
      "\u001b[1;31m---------------------------------------------------------------------------\u001b[0m",
      "\u001b[1;31mNameError\u001b[0m                                 Traceback (most recent call last)",
      "Cell \u001b[1;32mIn[10], line 2\u001b[0m\n\u001b[0;32m      1\u001b[0m \u001b[38;5;66;03m# objective is to minimize the moment of inertia: d^2 * p * x\u001b[39;00m\n\u001b[1;32m----> 2\u001b[0m m\u001b[38;5;241m.\u001b[39msetObjective( gp\u001b[38;5;241m.\u001b[39mquicksum( dist[i,j]\u001b[38;5;241m*\u001b[39mdist[i,j]\u001b[38;5;241m*\u001b[39mG\u001b[38;5;241m.\u001b[39mnodes[i][\u001b[38;5;124m'\u001b[39m\u001b[38;5;124mTOTPOP\u001b[39m\u001b[38;5;124m'\u001b[39m]\u001b[38;5;241m*\u001b[39mx[i,j] \u001b[38;5;28;01mfor\u001b[39;00m i \u001b[38;5;129;01min\u001b[39;00m G\u001b[38;5;241m.\u001b[39mnodes \u001b[38;5;28;01mfor\u001b[39;00m j \u001b[38;5;129;01min\u001b[39;00m G\u001b[38;5;241m.\u001b[39mnodes), GRB\u001b[38;5;241m.\u001b[39mMINIMIZE )\n",
      "File \u001b[1;32msrc\\gurobipy\\gurobi.pxi:3706\u001b[0m, in \u001b[0;36mgurobipy.quicksum\u001b[1;34m()\u001b[0m\n",
      "Cell \u001b[1;32mIn[10], line 2\u001b[0m, in \u001b[0;36m<genexpr>\u001b[1;34m(.0)\u001b[0m\n\u001b[0;32m      1\u001b[0m \u001b[38;5;66;03m# objective is to minimize the moment of inertia: d^2 * p * x\u001b[39;00m\n\u001b[1;32m----> 2\u001b[0m m\u001b[38;5;241m.\u001b[39msetObjective( gp\u001b[38;5;241m.\u001b[39mquicksum( dist[i,j]\u001b[38;5;241m*\u001b[39mdist[i,j]\u001b[38;5;241m*\u001b[39mG\u001b[38;5;241m.\u001b[39mnodes[i][\u001b[38;5;124m'\u001b[39m\u001b[38;5;124mTOTPOP\u001b[39m\u001b[38;5;124m'\u001b[39m]\u001b[38;5;241m*\u001b[39mx[i,j] \u001b[38;5;28;01mfor\u001b[39;00m i \u001b[38;5;129;01min\u001b[39;00m G\u001b[38;5;241m.\u001b[39mnodes \u001b[38;5;28;01mfor\u001b[39;00m j \u001b[38;5;129;01min\u001b[39;00m G\u001b[38;5;241m.\u001b[39mnodes), GRB\u001b[38;5;241m.\u001b[39mMINIMIZE )\n",
      "\u001b[1;31mNameError\u001b[0m: name 'dist' is not defined"
     ]
    }
   ],
   "source": [
    "# objective is to minimize the moment of inertia: d^2 * p * x\n",
    "m.setObjective( gp.quicksum( dist[i,j]*dist[i,j]*G.nodes[i]['TOTPOP']*x[i,j] for i in G.nodes for j in G.nodes), GRB.MINIMIZE )"
   ]
  },
  {
   "cell_type": "code",
   "execution_count": 11,
   "metadata": {},
   "outputs": [
    {
     "ename": "NameError",
     "evalue": "name 'k' is not defined",
     "output_type": "error",
     "traceback": [
      "\u001b[1;31m---------------------------------------------------------------------------\u001b[0m",
      "\u001b[1;31mNameError\u001b[0m                                 Traceback (most recent call last)",
      "Cell \u001b[1;32mIn[11], line 5\u001b[0m\n\u001b[0;32m      2\u001b[0m m\u001b[38;5;241m.\u001b[39maddConstrs( gp\u001b[38;5;241m.\u001b[39mquicksum(x[i,j] \u001b[38;5;28;01mfor\u001b[39;00m j \u001b[38;5;129;01min\u001b[39;00m G\u001b[38;5;241m.\u001b[39mnodes) \u001b[38;5;241m==\u001b[39m \u001b[38;5;241m1\u001b[39m \u001b[38;5;28;01mfor\u001b[39;00m i \u001b[38;5;129;01min\u001b[39;00m G\u001b[38;5;241m.\u001b[39mnodes)\n\u001b[0;32m      4\u001b[0m \u001b[38;5;66;03m# add constraint saying there should be k district centers\u001b[39;00m\n\u001b[1;32m----> 5\u001b[0m m\u001b[38;5;241m.\u001b[39maddConstr( gp\u001b[38;5;241m.\u001b[39mquicksum( x[j,j] \u001b[38;5;28;01mfor\u001b[39;00m j \u001b[38;5;129;01min\u001b[39;00m G\u001b[38;5;241m.\u001b[39mnodes ) \u001b[38;5;241m==\u001b[39m k )\n\u001b[0;32m      7\u001b[0m \u001b[38;5;66;03m# add constraints that say: if j roots a district, then its population is between L and U.\u001b[39;00m\n\u001b[0;32m      8\u001b[0m m\u001b[38;5;241m.\u001b[39maddConstrs( gp\u001b[38;5;241m.\u001b[39mquicksum( G\u001b[38;5;241m.\u001b[39mnodes[i][\u001b[38;5;124m'\u001b[39m\u001b[38;5;124mTOTPOP\u001b[39m\u001b[38;5;124m'\u001b[39m] \u001b[38;5;241m*\u001b[39m x[i,j] \u001b[38;5;28;01mfor\u001b[39;00m i \u001b[38;5;129;01min\u001b[39;00m G\u001b[38;5;241m.\u001b[39mnodes) \u001b[38;5;241m>\u001b[39m\u001b[38;5;241m=\u001b[39m L \u001b[38;5;241m*\u001b[39m x[j,j] \u001b[38;5;28;01mfor\u001b[39;00m j \u001b[38;5;129;01min\u001b[39;00m G\u001b[38;5;241m.\u001b[39mnodes )\n",
      "\u001b[1;31mNameError\u001b[0m: name 'k' is not defined"
     ]
    }
   ],
   "source": [
    "# add constraints saying that each county i is assigned to one district\n",
    "m.addConstrs( gp.quicksum(x[i,j] for j in G.nodes) == 1 for i in G.nodes)\n",
    "\n",
    "# add constraint saying there should be k district centers\n",
    "m.addConstr( gp.quicksum( x[j,j] for j in G.nodes ) == k )\n",
    "\n",
    "# add constraints that say: if j roots a district, then its population is between L and U.\n",
    "m.addConstrs( gp.quicksum( G.nodes[i]['TOTPOP'] * x[i,j] for i in G.nodes) >= L * x[j,j] for j in G.nodes )\n",
    "m.addConstrs( gp.quicksum( G.nodes[i]['TOTPOP'] * x[i,j] for i in G.nodes) <= U * x[j,j] for j in G.nodes )\n",
    "\n",
    "# add coupling constraints saying that if i is assigned to j, then j is a center.\n",
    "m.addConstrs( x[i,j] <= x[j,j] for i in G.nodes for j in G.nodes )\n",
    "\n",
    "m.update()"
   ]
  },
  {
   "cell_type": "code",
   "execution_count": 12,
   "metadata": {},
   "outputs": [],
   "source": [
    "# Add contiguity constraints\n",
    "\n",
    "import networkx as nx\n",
    "DG = nx.DiGraph(G)\n",
    "\n",
    "# Add variable f[j,u,v] which equals the amount of flow (originally from j) that is sent across arc (u,v)\n",
    "f = m.addVars( DG.nodes, DG.edges, vtype=GRB.CONTINUOUS)\n",
    "M = DG.number_of_nodes()-1\n",
    "\n",
    "# Add constraint saying that node j cannot receive flow of its own type\n",
    "m.addConstrs( gp.quicksum( f[j,u,j] for u in DG.neighbors(j) ) == 0 for j in DG.nodes )\n",
    "\n",
    "# Add constraints saying that node i can receive flow of type j only if i is assigned to j\n",
    "m.addConstrs( gp.quicksum( f[j,u,i] for u in DG.neighbors(i)) <= M * x[i,j] for i in DG.nodes for j in DG.nodes if i != j )\n",
    "\n",
    "# If i is assigned to j, then i should consume one unit of j flow. \n",
    "#    Otherwise, i should consume no units of j flow.\n",
    "m.addConstrs( gp.quicksum( f[j,u,i] - f[j,i,u] for u in DG.neighbors(i)) == x[i,j] for i in DG.nodes for j in DG.nodes if i != j )\n",
    "\n",
    "m.update()"
   ]
  },
  {
   "cell_type": "code",
   "execution_count": 13,
   "metadata": {},
   "outputs": [
    {
     "name": "stdout",
     "output_type": "stream",
     "text": [
      "Set parameter MIPGap to value 0\n",
      "Gurobi Optimizer version 10.0.3 build v10.0.3rc0 (win64)\n",
      "\n",
      "CPU model: Intel(R) Core(TM) i7-10750H CPU @ 2.60GHz, instruction set [SSE2|AVX|AVX2]\n",
      "Thread count: 6 physical cores, 12 logical processors, using up to 12 threads\n",
      "\n"
     ]
    },
    {
     "ename": "GurobiError",
     "evalue": "Model too large for size-limited license; visit https://www.gurobi.com/free-trial for a full license",
     "output_type": "error",
     "traceback": [
      "\u001b[1;31m---------------------------------------------------------------------------\u001b[0m",
      "\u001b[1;31mGurobiError\u001b[0m                               Traceback (most recent call last)",
      "Cell \u001b[1;32mIn[13], line 3\u001b[0m\n\u001b[0;32m      1\u001b[0m \u001b[38;5;66;03m# solve, making sure to set a 0.00% MIP gap tolerance(!)\u001b[39;00m\n\u001b[0;32m      2\u001b[0m m\u001b[38;5;241m.\u001b[39mParams\u001b[38;5;241m.\u001b[39mMIPGap \u001b[38;5;241m=\u001b[39m \u001b[38;5;241m0.0\u001b[39m\n\u001b[1;32m----> 3\u001b[0m m\u001b[38;5;241m.\u001b[39moptimize()\n",
      "File \u001b[1;32msrc\\gurobipy\\model.pxi:878\u001b[0m, in \u001b[0;36mgurobipy.Model.optimize\u001b[1;34m()\u001b[0m\n",
      "\u001b[1;31mGurobiError\u001b[0m: Model too large for size-limited license; visit https://www.gurobi.com/free-trial for a full license"
     ]
    }
   ],
   "source": [
    "# solve, making sure to set a 0.00% MIP gap tolerance(!)\n",
    "m.Params.MIPGap = 0.0\n",
    "m.optimize()"
   ]
  },
  {
   "cell_type": "code",
   "execution_count": null,
   "metadata": {},
   "outputs": [],
   "source": [
    "print(\"The moment of inertia objective is\",m.objval)\n",
    "\n",
    "# retrieve the districts and their populations\n",
    "centers = [j for j in G.nodes if x[j,j].x > 0.5 ]\n",
    "districts = [ [i for i in G.nodes if x[i,j].x > 0.5] for j in centers]\n",
    "district_counties = [ [ G.nodes[i][\"NAME10\"] for i in districts[j] ] for j in range(k)]\n",
    "district_populations = [ sum(G.nodes[i][\"TOTPOP\"] for i in districts[j]) for j in range(k) ]\n",
    "\n",
    "# print district info\n",
    "for j in range(k):\n",
    "    print(\"District\",j,\"has population\",district_populations[j],\"and contains counties\",district_counties[j])"
   ]
  },
  {
   "cell_type": "code",
   "execution_count": null,
   "metadata": {},
   "outputs": [],
   "source": [
    "# Let's draw it on a map\n",
    "import geopandas as gpd"
   ]
  },
  {
   "cell_type": "code",
   "execution_count": null,
   "metadata": {},
   "outputs": [],
   "source": [
    "# Read Oklahoma county shapefile from \"OK_county.shp\"\n",
    "filepath = 'C:\\\\Users\\sterl\\OneDrive\\Documents\\\\'\n",
    "filename = 'CO_counties.shp'\n",
    "\n",
    "# Read geopandas dataframe from file\n",
    "df = gpd.read_file( filepath + filename )"
   ]
  },
  {
   "cell_type": "code",
   "execution_count": null,
   "metadata": {},
   "outputs": [],
   "source": [
    "# Which district is each county assigned to?\n",
    "assignment = [ -1 for u in G.nodes ]\n",
    "    \n",
    "# for each district j\n",
    "for j in range(len(districts)):\n",
    "    \n",
    "    # for each node i in this district\n",
    "    for i in districts[j]:\n",
    "        \n",
    "        # What is its GEOID?\n",
    "        geoID = G.nodes[i][\"GEOID10\"]\n",
    "        \n",
    "        # Need to find this GEOID in the dataframe\n",
    "        for u in G.nodes:\n",
    "            if geoID == df['GEOID10'][u]: # Found it\n",
    "                assignment[u] = j # Node u from the dataframe should be assigned to district j\n",
    "\n",
    "# Now add the assignments to a column of the dataframe and map it\n",
    "df['assignment'] = assignment\n",
    "my_fig = df.plot(column='assignment').get_figure()"
   ]
  },
  {
   "cell_type": "code",
   "execution_count": null,
   "metadata": {},
   "outputs": [],
   "source": []
  },
  {
   "cell_type": "code",
   "execution_count": null,
   "metadata": {},
   "outputs": [],
   "source": []
  },
  {
   "cell_type": "code",
   "execution_count": null,
   "metadata": {},
   "outputs": [],
   "source": []
  },
  {
   "cell_type": "code",
   "execution_count": null,
   "metadata": {},
   "outputs": [],
   "source": []
  },
  {
   "cell_type": "code",
   "execution_count": null,
   "metadata": {},
   "outputs": [],
   "source": []
  }
 ],
 "metadata": {
  "kernelspec": {
   "display_name": "Python 3 (ipykernel)",
   "language": "python",
   "name": "python3"
  },
  "language_info": {
   "codemirror_mode": {
    "name": "ipython",
    "version": 3
   },
   "file_extension": ".py",
   "mimetype": "text/x-python",
   "name": "python",
   "nbconvert_exporter": "python",
   "pygments_lexer": "ipython3",
   "version": "3.11.5"
  }
 },
 "nbformat": 4,
 "nbformat_minor": 4
}
